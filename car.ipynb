{
 "cells": [
  {
   "cell_type": "code",
   "execution_count": 9,
   "id": "388cc1ab-c84e-401d-bf76-45cfb6213047",
   "metadata": {},
   "outputs": [],
   "source": [
    "from bs4 import BeautifulSoup\n",
    "import requests"
   ]
  },
  {
   "cell_type": "code",
   "execution_count": 10,
   "id": "59d2cab5-99ab-4f2d-a266-b84f9e19b8f7",
   "metadata": {},
   "outputs": [],
   "source": [
    "response = requests.get(\"https://www.tnwb.uscourts.gov/Search/search.aspx?zoom_query=CAR\")\n",
    "doc = BeautifulSoup(response.text, 'html.parser')"
   ]
  },
  {
   "cell_type": "code",
   "execution_count": 11,
   "id": "10124bec-82cb-4e13-8d49-592426c33438",
   "metadata": {},
   "outputs": [],
   "source": [
    "items = doc.find_all('div', class_=['result_block', 'result_altblock'])"
   ]
  },
  {
   "cell_type": "code",
   "execution_count": 16,
   "id": "c5e6581b-54ca-4f67-9ffd-bfaa2d099534",
   "metadata": {},
   "outputs": [],
   "source": [
    "results = []"
   ]
  },
  {
   "cell_type": "code",
   "execution_count": 17,
   "id": "04db0d8c-31ed-49ea-91f3-06fe79f6a58f",
   "metadata": {
    "scrolled": true
   },
   "outputs": [],
   "source": [
    "for item in items:\n",
    "    case_data = {\n",
    "        'Name': item.find('a').text.strip(),\n",
    "        'URL': \"https://www.tnwb.uscourts.gov\" + item.find('a')['href'],\n",
    "        'Category': item.find('span', class_='category').text.strip(),\n",
    "        'Details': item.find('div', class_='infoline').text.strip()\n",
    "    }\n",
    "    results.append(case_data)"
   ]
  },
  {
   "cell_type": "code",
   "execution_count": 18,
   "id": "49f8fd85-aaaa-4628-bd5c-d8c90ec9271a",
   "metadata": {},
   "outputs": [],
   "source": [
    "df = pd.DataFrame(results)"
   ]
  },
  {
   "cell_type": "code",
   "execution_count": 19,
   "id": "50d08142-b751-43c7-b352-0ec4dd4ba1a2",
   "metadata": {},
   "outputs": [
    {
     "name": "stdout",
     "output_type": "stream",
     "text": [
      "                                           Name  \\\n",
      "0            JDL: 04-24318 Jacquelline D. Black   \n",
      "1                WHB: 95-26401 Mary Lucy Cooper   \n",
      "2                GHB: 97-12368 Billy G. Woffard   \n",
      "3               JDL: 97-30580 Mary Chrlis Hurst   \n",
      "4  MRH: 20-20967 Jacob Braxton Herring 20-00094   \n",
      "\n",
      "                                                 URL            Category  \\\n",
      "0  https://www.tnwb.uscourts.govhttps://www.tnwb....  [Judges' Opinions]   \n",
      "1  https://www.tnwb.uscourts.govhttps://www.tnwb....  [Judges' Opinions]   \n",
      "2  https://www.tnwb.uscourts.govhttps://www.tnwb....  [Judges' Opinions]   \n",
      "3  https://www.tnwb.uscourts.govhttps://www.tnwb....  [Judges' Opinions]   \n",
      "4  https://www.tnwb.uscourts.govhttps://www.tnwb....  [Judges' Opinions]   \n",
      "\n",
      "                                             Details  \n",
      "0  Terms matched:  1  -  102k  -  URL: https://ww...  \n",
      "1  Terms matched:  1  -  27k  -  URL: https://www...  \n",
      "2  Terms matched:  1  -  71k  -  URL: https://www...  \n",
      "3  Terms matched:  1  -  32k  -  URL: https://www...  \n",
      "4  Terms matched:  1  -  303k  -  URL: https://ww...  \n"
     ]
    }
   ],
   "source": [
    "print(df.head())"
   ]
  },
  {
   "cell_type": "code",
   "execution_count": 20,
   "id": "59161f36-2af2-4d24-af3d-40f5e39e5255",
   "metadata": {},
   "outputs": [],
   "source": [
    "df.to_csv('car_case_results.csv', index=False)"
   ]
  },
  {
   "cell_type": "code",
   "execution_count": 22,
   "id": "e745f113-9911-47db-860e-16f672dcb738",
   "metadata": {},
   "outputs": [
    {
     "name": "stdout",
     "output_type": "stream",
     "text": [
      "Downloaded JDL: 04-24318 Jacquelline D. B.pdf\n",
      "Downloaded WHB: 95-26401 Mary Lucy Cooper.pdf\n",
      "Downloaded GHB: 97-12368 Billy G. Woffard.pdf\n",
      "Downloaded JDL: 97-30580 Mary Chrlis Hurs.pdf\n",
      "Downloaded MRH: 20-20967 Jacob Braxton He.pdf\n",
      "Downloaded GHB: 95-11365 Melissa L. Bryan.pdf\n",
      "Downloaded JDL: 09-20339 Diane M. Miller.pdf\n",
      "Downloaded GHB: 00-12340 Wanda K. Autry.pdf\n",
      "Downloaded GHB: 02-31651 Neil Bond Stewar.pdf\n",
      "Downloaded GHB: 96-12039 Randy and Janice.pdf\n"
     ]
    }
   ],
   "source": [
    "for case in results:\n",
    "    if \"URL:\" in case['Details']:\n",
    "        pdf_url = case['Details'].split(\"URL:\")[1].strip()\n",
    "        try:\n",
    "            pdf_response = requests.get(pdf_url)\n",
    "            filename = f\"{case['Name'][:30]}.pdf\".replace('/', '_')  # Safe filename\n",
    "            with open(filename, 'wb') as f:\n",
    "                f.write(pdf_response.content)\n",
    "            print(f\"Downloaded {filename}\")\n",
    "        except:\n",
    "            print(f\"Failed to download PDF for {case['Name']}\")"
   ]
  },
  {
   "cell_type": "code",
   "execution_count": null,
   "id": "93b5cf07-b639-45f8-8f7f-1d94df0895ad",
   "metadata": {},
   "outputs": [],
   "source": []
  }
 ],
 "metadata": {
  "kernelspec": {
   "display_name": "Python 3 (ipykernel)",
   "language": "python",
   "name": "python3"
  },
  "language_info": {
   "codemirror_mode": {
    "name": "ipython",
    "version": 3
   },
   "file_extension": ".py",
   "mimetype": "text/x-python",
   "name": "python",
   "nbconvert_exporter": "python",
   "pygments_lexer": "ipython3",
   "version": "3.11.8"
  }
 },
 "nbformat": 4,
 "nbformat_minor": 5
}
