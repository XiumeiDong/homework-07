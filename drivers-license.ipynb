{
 "cells": [
  {
   "cell_type": "code",
   "execution_count": 29,
   "id": "e3601c9d-43db-43e7-8a81-132f5d84e2f1",
   "metadata": {},
   "outputs": [],
   "source": [
    "import requests\n",
    "from bs4 import BeautifulSoup\n",
    "import pandas as pd"
   ]
  },
  {
   "cell_type": "code",
   "execution_count": 30,
   "id": "328f8598-e646-47f2-ba03-4663cdebcfc3",
   "metadata": {},
   "outputs": [],
   "source": [
    "url = \"https://travel-id-documents.az.gov/authorized-third-party-driver-license-locations\"\n",
    "response = requests.get(url, headers={'User-Agent': 'Mozilla/5.0'})\n",
    "soup = BeautifulSoup(response.content, 'html.parser')"
   ]
  },
  {
   "cell_type": "code",
   "execution_count": 31,
   "id": "6d01f0c9-8c9d-4931-9096-f8e1b7147449",
   "metadata": {},
   "outputs": [],
   "source": [
    "table = soup.find('table', {'class': 'table'})\n",
    "data = []\n",
    "\n",
    "for row in table.find_all('tr')[1:]:  \n",
    "    cols = row.find_all('td')\n",
    "      \n",
    "    company = cols[0].get_text(strip=True)\n",
    "    link = cols[0].find('a')\n",
    "    url = link['href'] if link else \"\"\n",
    "    \n",
    "    address = ' '.join(cols[1].stripped_strings)\n",
    "    \n",
    "    data.append({\n",
    "        'Company': company,\n",
    "        'URL': url,\n",
    "        'Address': address,\n",
    "        'Telephone': cols[2].get_text(strip=True),\n",
    "        'Hours': cols[3].get_text(\" \", strip=True)\n",
    "    })"
   ]
  },
  {
   "cell_type": "code",
   "execution_count": 32,
   "id": "e0793a25-97ad-4881-a481-3e913941d21a",
   "metadata": {},
   "outputs": [],
   "source": [
    "df = pd.DataFrame(data)"
   ]
  },
  {
   "cell_type": "code",
   "execution_count": 33,
   "id": "393bdd27-4e22-492f-b0d2-6cddd7f5e6a8",
   "metadata": {},
   "outputs": [
    {
     "name": "stdout",
     "output_type": "stream",
     "text": [
      "                                   Company                 URL  \\\n",
      "0     1 Stop Title & Registration Services  http://az-mvd.com/   \n",
      "1     1 Stop Title & Registration Services  http://az-mvd.com/   \n",
      "2  Academy of Driving Motor Vehicle Center                       \n",
      "3                     Arizona Auto License                       \n",
      "4         Arizona Auto License Service LLC                       \n",
      "\n",
      "                                             Address  \\\n",
      "0    940 N. Alma School Rd., #104 Chandler, AZ 85224   \n",
      "1      5036 W. Cactus Rd., Ste. 2 Glendale, AZ 85304   \n",
      "2            4733 E. Broadway Blvd. Tucson, AZ 85711   \n",
      "3                 1337 W. Prince Rd Tucson, AZ 85705   \n",
      "4  1457 N. Eliseo C Felix Jr. Way, Ste. 105 and 1...   \n",
      "\n",
      "                          Telephone  \\\n",
      "0                      480.821.3288   \n",
      "1                      602.264.2400   \n",
      "2                      520.750.7572   \n",
      "3                      520.696.2023   \n",
      "4  623.925.5455 or Fax 623.925.5879   \n",
      "\n",
      "                                               Hours  \n",
      "0  Mon.-Fri. 8:00 a.m.-6:00 p.m. Sat. 9:00 a.m.-4...  \n",
      "1  Mon.-Fri. 8:00 a.m.-6:00 p.m. Sat. 8:30 a.m.-4...  \n",
      "2     Mon.-Fri. 9 a.m.-5 p.m. and Sat. 9 a.m.-3 p.m.  \n",
      "3  Driver License Hours: Mon.-Fri. 9 a.m.-5 p.m. ...  \n",
      "4                            Mon.-Fri. 8 a.m.-5 p.m.  \n"
     ]
    }
   ],
   "source": [
    "print(df.head())"
   ]
  },
  {
   "cell_type": "code",
   "execution_count": 34,
   "id": "f530f5c3-e6a9-44bc-98c0-10e06578c3ab",
   "metadata": {},
   "outputs": [],
   "source": [
    "df.to_csv(\"complete_locations.csv\", index=False)"
   ]
  },
  {
   "cell_type": "code",
   "execution_count": null,
   "id": "f44995fb-ae33-41fa-ab22-d9cc3995cb4d",
   "metadata": {},
   "outputs": [],
   "source": []
  }
 ],
 "metadata": {
  "kernelspec": {
   "display_name": "Python 3 (ipykernel)",
   "language": "python",
   "name": "python3"
  },
  "language_info": {
   "codemirror_mode": {
    "name": "ipython",
    "version": 3
   },
   "file_extension": ".py",
   "mimetype": "text/x-python",
   "name": "python",
   "nbconvert_exporter": "python",
   "pygments_lexer": "ipython3",
   "version": "3.11.8"
  }
 },
 "nbformat": 4,
 "nbformat_minor": 5
}
