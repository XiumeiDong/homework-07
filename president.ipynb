{
 "cells": [
  {
   "cell_type": "code",
   "execution_count": 43,
   "id": "74d1ff3c-9c36-4a14-9dc4-10b863a19013",
   "metadata": {},
   "outputs": [],
   "source": [
    "import requests\n",
    "from bs4 import BeautifulSoup\n",
    "import pandas as pd"
   ]
  },
  {
   "cell_type": "code",
   "execution_count": 44,
   "id": "f8340aee-eb77-4a5c-bbb0-6d5ff9d9e218",
   "metadata": {},
   "outputs": [
    {
     "data": {
      "text/plain": [
       "6"
      ]
     },
     "execution_count": 44,
     "metadata": {},
     "output_type": "execute_result"
    }
   ],
   "source": [
    "tables = pd.read_html(\"https://en.wikipedia.org/wiki/List_of_presidents_of_the_United_States\")\n",
    "len(tables)"
   ]
  },
  {
   "cell_type": "code",
   "execution_count": 45,
   "id": "eb32406f-124e-4eec-8f4b-4906cbc0bf15",
   "metadata": {},
   "outputs": [
    {
     "data": {
      "text/html": [
       "<div>\n",
       "<style scoped>\n",
       "    .dataframe tbody tr th:only-of-type {\n",
       "        vertical-align: middle;\n",
       "    }\n",
       "\n",
       "    .dataframe tbody tr th {\n",
       "        vertical-align: top;\n",
       "    }\n",
       "\n",
       "    .dataframe thead th {\n",
       "        text-align: right;\n",
       "    }\n",
       "</style>\n",
       "<table border=\"1\" class=\"dataframe\">\n",
       "  <thead>\n",
       "    <tr style=\"text-align: right;\">\n",
       "      <th></th>\n",
       "      <th>No.[a]</th>\n",
       "      <th>Portrait</th>\n",
       "      <th>Name (birth–death)</th>\n",
       "      <th>Term[16]</th>\n",
       "      <th>Party[b][17]</th>\n",
       "      <th>Party[b][17].1</th>\n",
       "      <th>Election</th>\n",
       "      <th>Vice President[18]</th>\n",
       "    </tr>\n",
       "  </thead>\n",
       "  <tbody>\n",
       "    <tr>\n",
       "      <th>0</th>\n",
       "      <td>1</td>\n",
       "      <td>NaN</td>\n",
       "      <td>George Washington (1732–1799) [19]</td>\n",
       "      <td>April 30, 1789 – March 4, 1797</td>\n",
       "      <td>NaN</td>\n",
       "      <td>Unaffiliated</td>\n",
       "      <td>1788–891792</td>\n",
       "      <td>John Adams[c]</td>\n",
       "    </tr>\n",
       "    <tr>\n",
       "      <th>1</th>\n",
       "      <td>2</td>\n",
       "      <td>NaN</td>\n",
       "      <td>John Adams (1735–1826) [21]</td>\n",
       "      <td>March 4, 1797 – March 4, 1801</td>\n",
       "      <td>NaN</td>\n",
       "      <td>Federalist</td>\n",
       "      <td>1796</td>\n",
       "      <td>Thomas Jefferson[d]</td>\n",
       "    </tr>\n",
       "    <tr>\n",
       "      <th>2</th>\n",
       "      <td>3</td>\n",
       "      <td>NaN</td>\n",
       "      <td>Thomas Jefferson (1743–1826) [23]</td>\n",
       "      <td>March 4, 1801 – March 4, 1809</td>\n",
       "      <td>NaN</td>\n",
       "      <td>Democratic- Republican</td>\n",
       "      <td>1800 1804</td>\n",
       "      <td>Aaron BurrGeorge Clinton</td>\n",
       "    </tr>\n",
       "    <tr>\n",
       "      <th>3</th>\n",
       "      <td>4</td>\n",
       "      <td>NaN</td>\n",
       "      <td>James Madison (1751–1836) [24]</td>\n",
       "      <td>March 4, 1809 – March 4, 1817</td>\n",
       "      <td>NaN</td>\n",
       "      <td>Democratic- Republican</td>\n",
       "      <td>18081812</td>\n",
       "      <td>George Clinton[e]Vacant after April 20, 1812El...</td>\n",
       "    </tr>\n",
       "    <tr>\n",
       "      <th>4</th>\n",
       "      <td>5</td>\n",
       "      <td>NaN</td>\n",
       "      <td>James Monroe (1758–1831) [26]</td>\n",
       "      <td>March 4, 1817 – March 4, 1825</td>\n",
       "      <td>NaN</td>\n",
       "      <td>Democratic- Republican</td>\n",
       "      <td>18161820</td>\n",
       "      <td>Daniel D. Tompkins</td>\n",
       "    </tr>\n",
       "  </tbody>\n",
       "</table>\n",
       "</div>"
      ],
      "text/plain": [
       "   No.[a]  Portrait                  Name (birth–death)  \\\n",
       "0       1       NaN  George Washington (1732–1799) [19]   \n",
       "1       2       NaN         John Adams (1735–1826) [21]   \n",
       "2       3       NaN   Thomas Jefferson (1743–1826) [23]   \n",
       "3       4       NaN      James Madison (1751–1836) [24]   \n",
       "4       5       NaN       James Monroe (1758–1831) [26]   \n",
       "\n",
       "                         Term[16]  Party[b][17]          Party[b][17].1  \\\n",
       "0  April 30, 1789 – March 4, 1797           NaN            Unaffiliated   \n",
       "1   March 4, 1797 – March 4, 1801           NaN              Federalist   \n",
       "2   March 4, 1801 – March 4, 1809           NaN  Democratic- Republican   \n",
       "3   March 4, 1809 – March 4, 1817           NaN  Democratic- Republican   \n",
       "4   March 4, 1817 – March 4, 1825           NaN  Democratic- Republican   \n",
       "\n",
       "      Election                                 Vice President[18]  \n",
       "0  1788–891792                                      John Adams[c]  \n",
       "1         1796                                Thomas Jefferson[d]  \n",
       "2    1800 1804                           Aaron BurrGeorge Clinton  \n",
       "3     18081812  George Clinton[e]Vacant after April 20, 1812El...  \n",
       "4     18161820                                 Daniel D. Tompkins  "
      ]
     },
     "execution_count": 45,
     "metadata": {},
     "output_type": "execute_result"
    }
   ],
   "source": [
    "df = table[0]\n",
    "df.head()"
   ]
  },
  {
   "cell_type": "code",
   "execution_count": 46,
   "id": "3e775a61-5448-4e56-af0d-1180541b0879",
   "metadata": {},
   "outputs": [
    {
     "data": {
      "text/plain": [
       "Index(['No.[a]', 'Portrait', 'Name (birth–death)', 'Term[16]', 'Party[b][17]',\n",
       "       'Party[b][17].1', 'Election', 'Vice President[18]'],\n",
       "      dtype='object')"
      ]
     },
     "execution_count": 46,
     "metadata": {},
     "output_type": "execute_result"
    }
   ],
   "source": [
    "df.columns"
   ]
  },
  {
   "cell_type": "code",
   "execution_count": 47,
   "id": "546f7d04-acd0-45e0-b596-c7ee3ac30a5f",
   "metadata": {},
   "outputs": [],
   "source": [
    "df = df.rename(columns={\n",
    "    'No.[a]': 'No.',\n",
    "    'Name (birth–death)': 'Name',\n",
    "    'Term[16]': 'Term',\n",
    "    'Vice President[18]': 'Vice President'\n",
    "})\n",
    "\n",
    "df['Party'] = df['Party[b][17]'].fillna('') + df['Party[b][17].1'].fillna('')\n",
    "\n",
    "df = df.drop(columns=['Party[b][17]', 'Party[b][17].1', 'Portrait'])"
   ]
  },
  {
   "cell_type": "code",
   "execution_count": 48,
   "id": "8440eea7-b892-4c37-b0b1-ee6b3cc32a8b",
   "metadata": {},
   "outputs": [
    {
     "data": {
      "text/html": [
       "<div>\n",
       "<style scoped>\n",
       "    .dataframe tbody tr th:only-of-type {\n",
       "        vertical-align: middle;\n",
       "    }\n",
       "\n",
       "    .dataframe tbody tr th {\n",
       "        vertical-align: top;\n",
       "    }\n",
       "\n",
       "    .dataframe thead th {\n",
       "        text-align: right;\n",
       "    }\n",
       "</style>\n",
       "<table border=\"1\" class=\"dataframe\">\n",
       "  <thead>\n",
       "    <tr style=\"text-align: right;\">\n",
       "      <th></th>\n",
       "      <th>No.</th>\n",
       "      <th>Name</th>\n",
       "      <th>Term</th>\n",
       "      <th>Election</th>\n",
       "      <th>Vice President</th>\n",
       "      <th>Party</th>\n",
       "    </tr>\n",
       "  </thead>\n",
       "  <tbody>\n",
       "    <tr>\n",
       "      <th>0</th>\n",
       "      <td>1</td>\n",
       "      <td>George Washington (1732–1799) [19]</td>\n",
       "      <td>April 30, 1789 – March 4, 1797</td>\n",
       "      <td>1788–891792</td>\n",
       "      <td>John Adams[c]</td>\n",
       "      <td>Unaffiliated</td>\n",
       "    </tr>\n",
       "    <tr>\n",
       "      <th>1</th>\n",
       "      <td>2</td>\n",
       "      <td>John Adams (1735–1826) [21]</td>\n",
       "      <td>March 4, 1797 – March 4, 1801</td>\n",
       "      <td>1796</td>\n",
       "      <td>Thomas Jefferson[d]</td>\n",
       "      <td>Federalist</td>\n",
       "    </tr>\n",
       "    <tr>\n",
       "      <th>2</th>\n",
       "      <td>3</td>\n",
       "      <td>Thomas Jefferson (1743–1826) [23]</td>\n",
       "      <td>March 4, 1801 – March 4, 1809</td>\n",
       "      <td>1800 1804</td>\n",
       "      <td>Aaron BurrGeorge Clinton</td>\n",
       "      <td>Democratic- Republican</td>\n",
       "    </tr>\n",
       "    <tr>\n",
       "      <th>3</th>\n",
       "      <td>4</td>\n",
       "      <td>James Madison (1751–1836) [24]</td>\n",
       "      <td>March 4, 1809 – March 4, 1817</td>\n",
       "      <td>18081812</td>\n",
       "      <td>George Clinton[e]Vacant after April 20, 1812El...</td>\n",
       "      <td>Democratic- Republican</td>\n",
       "    </tr>\n",
       "    <tr>\n",
       "      <th>4</th>\n",
       "      <td>5</td>\n",
       "      <td>James Monroe (1758–1831) [26]</td>\n",
       "      <td>March 4, 1817 – March 4, 1825</td>\n",
       "      <td>18161820</td>\n",
       "      <td>Daniel D. Tompkins</td>\n",
       "      <td>Democratic- Republican</td>\n",
       "    </tr>\n",
       "  </tbody>\n",
       "</table>\n",
       "</div>"
      ],
      "text/plain": [
       "   No.                                Name                            Term  \\\n",
       "0    1  George Washington (1732–1799) [19]  April 30, 1789 – March 4, 1797   \n",
       "1    2         John Adams (1735–1826) [21]   March 4, 1797 – March 4, 1801   \n",
       "2    3   Thomas Jefferson (1743–1826) [23]   March 4, 1801 – March 4, 1809   \n",
       "3    4      James Madison (1751–1836) [24]   March 4, 1809 – March 4, 1817   \n",
       "4    5       James Monroe (1758–1831) [26]   March 4, 1817 – March 4, 1825   \n",
       "\n",
       "      Election                                     Vice President  \\\n",
       "0  1788–891792                                      John Adams[c]   \n",
       "1         1796                                Thomas Jefferson[d]   \n",
       "2    1800 1804                           Aaron BurrGeorge Clinton   \n",
       "3     18081812  George Clinton[e]Vacant after April 20, 1812El...   \n",
       "4     18161820                                 Daniel D. Tompkins   \n",
       "\n",
       "                    Party  \n",
       "0            Unaffiliated  \n",
       "1              Federalist  \n",
       "2  Democratic- Republican  \n",
       "3  Democratic- Republican  \n",
       "4  Democratic- Republican  "
      ]
     },
     "execution_count": 48,
     "metadata": {},
     "output_type": "execute_result"
    }
   ],
   "source": [
    "df.head()"
   ]
  },
  {
   "cell_type": "code",
   "execution_count": 49,
   "id": "0544e72e-3dc3-4f75-8bef-23fb07602a04",
   "metadata": {},
   "outputs": [],
   "source": [
    "df.to_csv('presidents.csv', index=False)"
   ]
  },
  {
   "cell_type": "code",
   "execution_count": null,
   "id": "46b5bae7-fc34-4980-8296-a9bb0fc103b1",
   "metadata": {},
   "outputs": [],
   "source": []
  }
 ],
 "metadata": {
  "kernelspec": {
   "display_name": "Python 3 (ipykernel)",
   "language": "python",
   "name": "python3"
  },
  "language_info": {
   "codemirror_mode": {
    "name": "ipython",
    "version": 3
   },
   "file_extension": ".py",
   "mimetype": "text/x-python",
   "name": "python",
   "nbconvert_exporter": "python",
   "pygments_lexer": "ipython3",
   "version": "3.11.8"
  }
 },
 "nbformat": 4,
 "nbformat_minor": 5
}
