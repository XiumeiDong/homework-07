{
 "cells": [
  {
   "cell_type": "code",
   "execution_count": 56,
   "id": "e9b55a7c-4cfd-4d39-8db8-5a06c618aa3d",
   "metadata": {},
   "outputs": [],
   "source": [
    "import requests\n",
    "from bs4 import BeautifulSoup\n",
    "import pandas as pd"
   ]
  },
  {
   "cell_type": "code",
   "execution_count": 57,
   "id": "ad0b43f8-dfbb-45c4-b58c-e5e93cab4ed9",
   "metadata": {},
   "outputs": [],
   "source": [
    "url = \"https://www.lemonde.fr/\"\n",
    "response = requests.get(url)\n",
    "soup = BeautifulSoup(response.text, \"html.parser\")"
   ]
  },
  {
   "cell_type": "code",
   "execution_count": 58,
   "id": "bc2e2c72-f8e6-48a4-9f3d-b26b772db789",
   "metadata": {},
   "outputs": [],
   "source": [
    "articles = soup.find_all(class_='article')"
   ]
  },
  {
   "cell_type": "code",
   "execution_count": 59,
   "id": "f79ba1bb-f193-4177-8454-5b81d8116714",
   "metadata": {},
   "outputs": [],
   "source": [
    "articles = soup.find_all(class_='article')\n",
    "row = []  \n",
    "\n",
    "data = []\n",
    "for article in articles:\n",
    "    # Extract title\n",
    "    title_elem = article.find(class_='article__title')\n",
    "    title = title_elem.text.strip() if title_elem else None\n",
    "    \n",
    "    # Extract subhead\n",
    "    desc_elem = article.find(class_='article__desc')\n",
    "    subhead = desc_elem.text.strip() if desc_elem else None\n",
    "    \n",
    "    # Extract article URL\n",
    "    link = article.find('a', href=True)\n",
    "    article_url = link['href'] if link else None\n",
    "    if article_url and not article_url.startswith('http'):\n",
    "        article_url = 'https://www.lemonde.fr' + article_url\n",
    "    \n",
    "    # Check if premium\n",
    "    premium = \"Premium\" if article.find(class_='icon__premium') else \"\"\n",
    "    \n",
    "    # Extract byline (if available)\n",
    "    byline_elem = article.find(class_='article__author')\n",
    "    byline = byline_elem.text.strip() if byline_elem else None\n",
    "    \n",
    "    # Extract article type (if available)\n",
    "    type_elem = article.find(class_='article__category')\n",
    "    article_type = type_elem.text.strip() if type_elem else None\n",
    "    \n",
    "    # Extract image URL\n",
    "    img = article.find('img')\n",
    "    img_url = img.get('src') or img.get('data-src') if img else None\n",
    "    \n",
    "    row.append({\n",
    "        'Title': title,\n",
    "        'Subhead': subhead,\n",
    "        'Article URL': article_url,\n",
    "        'Premium': premium,\n",
    "        'Byline': byline,\n",
    "        'Article Type': article_type,\n",
    "        'Image URL': img_url\n",
    "    })"
   ]
  },
  {
   "cell_type": "code",
   "execution_count": 60,
   "id": "1d7947de-b093-4a69-a960-59470d7df7c6",
   "metadata": {},
   "outputs": [],
   "source": [
    "df = pd.DataFrame(row)"
   ]
  },
  {
   "cell_type": "code",
   "execution_count": 61,
   "id": "2a58a0cc-e062-4b0b-abf9-2e803032c486",
   "metadata": {},
   "outputs": [
    {
     "name": "stdout",
     "output_type": "stream",
     "text": [
      "                                               Title Subhead Article URL  \\\n",
      "0  Vers une liquidation judiciaire pour Casa Fran...    None        None   \n",
      "1  Nucléaire : « Les ogres des données sont parti...    None        None   \n",
      "2  Satellites : « Faudra-t-il unir nos forces dan...    None        None   \n",
      "3  « La doctrine Trump en matière de politique ét...    None        None   \n",
      "4  Comment l’armée chinoise s’entraîne à envahir ...    None        None   \n",
      "\n",
      "   Premium                                             Byline Article Type  \\\n",
      "0                                                        None         None   \n",
      "1  Premium                                  Isabelle Chaperon         None   \n",
      "2  Premium                                  Isabelle Chaperon         None   \n",
      "3  Premium  Richard Haass Président émérite du Council on ...         None   \n",
      "4  Premium                                               None         None   \n",
      "\n",
      "  Image URL  \n",
      "0      None  \n",
      "1      None  \n",
      "2      None  \n",
      "3      None  \n",
      "4      None  \n"
     ]
    }
   ],
   "source": [
    "print(df.head())"
   ]
  },
  {
   "cell_type": "code",
   "execution_count": 62,
   "id": "df55ff5f-a4aa-4215-aa29-e91d3f2c317c",
   "metadata": {},
   "outputs": [],
   "source": [
    "df.to_csv('le_monde_articles.csv', index=False)"
   ]
  },
  {
   "cell_type": "code",
   "execution_count": 63,
   "id": "625075c1-c715-43f1-976b-9e114520e76d",
   "metadata": {},
   "outputs": [
    {
     "name": "stdout",
     "output_type": "stream",
     "text": [
      "Saved 45 articles to le_monde_articles.csv\n"
     ]
    }
   ],
   "source": [
    "print(f\"Saved {len(df)} articles to le_monde_articles.csv\")"
   ]
  },
  {
   "cell_type": "code",
   "execution_count": null,
   "id": "f0b1fd65-1ac4-4ba8-b99f-d038a6620f78",
   "metadata": {},
   "outputs": [],
   "source": []
  },
  {
   "cell_type": "code",
   "execution_count": null,
   "id": "feb27781-9f9c-49c6-8147-13e00df4c029",
   "metadata": {},
   "outputs": [],
   "source": []
  },
  {
   "cell_type": "code",
   "execution_count": null,
   "id": "cd98be58-a406-4963-99ff-7c8cf81984a2",
   "metadata": {},
   "outputs": [],
   "source": []
  },
  {
   "cell_type": "code",
   "execution_count": null,
   "id": "82faf07e-94f8-42ab-a795-90a4bb289ce8",
   "metadata": {},
   "outputs": [],
   "source": []
  }
 ],
 "metadata": {
  "kernelspec": {
   "display_name": "Python 3 (ipykernel)",
   "language": "python",
   "name": "python3"
  },
  "language_info": {
   "codemirror_mode": {
    "name": "ipython",
    "version": 3
   },
   "file_extension": ".py",
   "mimetype": "text/x-python",
   "name": "python",
   "nbconvert_exporter": "python",
   "pygments_lexer": "ipython3",
   "version": "3.11.8"
  }
 },
 "nbformat": 4,
 "nbformat_minor": 5
}
